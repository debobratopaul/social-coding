{
  "nbformat": 4,
  "nbformat_minor": 0,
  "metadata": {
    "colab": {
      "provenance": [],
      "include_colab_link": true
    },
    "kernelspec": {
      "name": "python3",
      "display_name": "Python 3"
    },
    "language_info": {
      "name": "python"
    }
  },
  "cells": [
    {
      "cell_type": "markdown",
      "metadata": {
        "id": "view-in-github",
        "colab_type": "text"
      },
      "source": [
        "<a href=\"https://colab.research.google.com/github/debobratopaul/social-coding/blob/main/Copy_of_Social_Coding_Assignment.ipynb\" target=\"_parent\"><img src=\"https://colab.research.google.com/assets/colab-badge.svg\" alt=\"Open In Colab\"/></a>"
      ]
    },
    {
      "cell_type": "markdown",
      "source": [
        "## 🎉 Woohoo! It's time for another assignment!\n",
        "\n",
        "Are you ready to put your social coding skills to test? 💪📊🐍\n",
        "\n",
        "Get ready to dive deep into Python's social coding techniques. You'll be a pro at dealing with github, version control and collaborating with others in no time! 🤓👨‍💻🔍\n",
        "\n",
        "So buckle up and let's get started! Good luck! 🍀🚀"
      ],
      "metadata": {
        "id": "ScRubaP6i3y9"
      }
    },
    {
      "cell_type": "markdown",
      "source": [
        "## **Activity 1:**"
      ],
      "metadata": {
        "id": "pZpUPo_0JBk8"
      }
    },
    {
      "cell_type": "markdown",
      "source": [
        "### **Building a Fibonacci Sequence Generator:**\n",
        "\n",
        "You have been tasked with building a program that generates a Fibonacci sequence using conditional looping in Python. You will be working with a team and will be using GitHub to collaborate and share your code.\n",
        "\n",
        "Here are the steps you should follow:\n",
        "\n",
        "1. Create a new repository on GitHub and add your team members as collaborators.\n",
        "2. Clone the repository to your local machine.\n",
        "3. Create a new branch for your feature.\n",
        "4. Write the code to generate the Fibonacci sequence. Your code should prompt the user for a number and generate the sequence up to that number.\n",
        "5. Test your code to ensure it works correctly.\n",
        "6. Push your changes to the remote repository.\n",
        "7. Create a pull request for your changes.\n",
        "8. Review and merge the pull request."
      ],
      "metadata": {
        "id": "pxqs2m6EJEnC"
      }
    },
    {
      "cell_type": "code",
      "source": [
        "#Write your code\n",
        "def fibonacci(n):\n",
        "    sequence = []\n",
        "    if n <= 0:\n",
        "        return sequence\n",
        "    elif n == 1:\n",
        "        sequence.append(0)\n",
        "    elif n == 2:\n",
        "        sequence.extend([0, 1])\n",
        "    else:\n",
        "        sequence.extend([0, 1])\n",
        "        for i in range(2, n):\n",
        "            sequence.append(sequence[i - 1] + sequence[i - 2])\n",
        "    return sequence\n",
        "\n",
        "# Testing the function\n",
        "n_terms =  int(input(\"Enter the number of terms in the Fibonacci sequence: \"))\n",
        "fib_sequence = fibonacci(n_terms)\n",
        "print(fib_sequence)\n",
        "\n"
      ],
      "metadata": {
        "id": "tZ5xClyzgX9R",
        "outputId": "114c5846-71e1-4356-c834-aa8c2ca7a309",
        "colab": {
          "base_uri": "https://localhost:8080/"
        }
      },
      "execution_count": null,
      "outputs": [
        {
          "output_type": "stream",
          "name": "stdout",
          "text": [
            "Enter the number of terms in the Fibonacci sequence: 7\n",
            "[0, 1, 1, 2, 3, 5, 8]\n"
          ]
        }
      ]
    },
    {
      "cell_type": "markdown",
      "source": [
        "### **Temperature Conversion:**\n",
        "\n",
        "You have been assigned to work on a project to create a program that converts temperatures between Celsius and Fahrenheit using Python. You will be working with a team and will be using GitHub to collaborate and share your code.\n",
        "\n",
        "Here are the steps you should follow:\n",
        "\n",
        "1. Create a new repository on GitHub and add your team members as collaborators.\n",
        "2. Clone the repository to your local machine.\n",
        "3. Create a new branch for your feature.\n",
        "4. Write the code to implement the temperature conversion feature. Your code should prompt the user for a temperature and a temperature scale (Celsius or Fahrenheit) and convert the temperature to the other scale.\n",
        "5. Test your code to ensure it works correctly.\n",
        "6. Push your changes to the remote repository.\n",
        "7. Create a pull request for your changes.\n",
        "8. Review and merge the pull request."
      ],
      "metadata": {
        "id": "59rTQ9mQgxXt"
      }
    },
    {
      "cell_type": "markdown",
      "source": [
        "![celsius.png](data:image/png;base64,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)"
      ],
      "metadata": {
        "id": "wYXRjCkajrN2"
      }
    },
    {
      "cell_type": "code",
      "source": [
        "def celsius_to_fahrenheit(celsius):\n",
        "    fahrenheit = (celsius * 9/5) + 32\n",
        "    return fahrenheit\n",
        "def fahrenheit_to_celsius(fahrenheit):\n",
        "    celsius = (fahrenheit - 32) * 5/9\n",
        "    return celsius\n",
        "def main():\n",
        "    temperature = float(input(\"Enter the temperature value: \"))\n",
        "    unit = input(\"Enter the unit of measurement (Celsius or Fahrenheit): \")\n",
        "\n",
        "    if unit.lower() == \"celsius\":\n",
        "        converted_temp = celsius_to_fahrenheit(temperature)\n",
        "        print(f\"The temperature in Fahrenheit is: {converted_temp}°F\")\n",
        "    elif unit.lower() == \"fahrenheit\":\n",
        "        converted_temp = fahrenheit_to_celsius(temperature)\n",
        "        print(f\"The temperature in Celsius is: {converted_temp}°C\")\n",
        "    else:\n",
        "        print(\"Invalid unit of measurement. Please enter Celsius or Fahrenheit.\")\n",
        "\n",
        "if __name__ == \"__main__\":\n",
        "    main()\n"
      ],
      "metadata": {
        "id": "bgah78W12quG",
        "outputId": "b9663898-87f5-4a4f-9b4b-c340cfe7531f",
        "colab": {
          "base_uri": "https://localhost:8080/"
        }
      },
      "execution_count": null,
      "outputs": [
        {
          "output_type": "stream",
          "name": "stdout",
          "text": [
            "Enter the temperature value: 32\n",
            "Enter the unit of measurement (Celsius or Fahrenheit): fahrenheit\n",
            "The temperature in Celsius is: 0.0°C\n"
          ]
        }
      ]
    },
    {
      "cell_type": "code",
      "source": [],
      "metadata": {
        "id": "l-RHBKaV2vs5"
      },
      "execution_count": null,
      "outputs": []
    }
  ]
}